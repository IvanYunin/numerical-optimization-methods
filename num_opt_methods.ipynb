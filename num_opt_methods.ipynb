{
 "cells": [
  {
   "cell_type": "code",
   "execution_count": 6,
   "metadata": {
    "collapsed": false
   },
   "outputs": [],
   "source": [
    "import numpy as np\n",
    "\n",
    "def DichotomyOneCalc(func, a, b, delta = 0.1, eps = 0.001):\n",
    "    while b - a > delta:\n",
    "        x1 = - eps + (b + a) / 2. \n",
    "        x2 = eps + (b + a) / 2. \n",
    "        if func(x1) < func(x2):\n",
    "            b = x2\n",
    "        else:\n",
    "            a = x1\n",
    "    return [a, b]\n",
    "\n",
    "def GoldenSection(func, a, b, delta = 0.1):\n",
    "    tay = (np.sqrt(5) - 1) / 2.\n",
    "    y = a + (b - a) * tay\n",
    "    x = b - (b - a) * tay\n",
    "    Qy = func(y)\n",
    "    Qx = func(x)\n",
    "    while b - a > delta:\n",
    "        if Qx < Qy:\n",
    "            b = y\n",
    "            y = x\n",
    "            Qy = Qx\n",
    "            x = b - (b - a) * tay\n",
    "            Qx = func(x)\n",
    "        else:\n",
    "            a = x\n",
    "            x = y\n",
    "            Qx = Qy\n",
    "            y = a + (b - a) * tay\n",
    "            Qy = func(y)\n",
    "    return [a, b]"
   ]
  },
  {
   "cell_type": "code",
   "execution_count": 10,
   "metadata": {
    "collapsed": false
   },
   "outputs": [],
   "source": [
    "def test_func(x):\n",
    "    return np.abs(np.log(x))\n",
    "result_interval = DichotomyOneCalc(test_func, 0.1, 30000, 0.0001,0.0000001)"
   ]
  },
  {
   "cell_type": "code",
   "execution_count": 11,
   "metadata": {
    "collapsed": false
   },
   "outputs": [
    {
     "data": {
      "text/plain": [
       "[0.9999898832231368, 1.000045962391349]"
      ]
     },
     "execution_count": 11,
     "metadata": {},
     "output_type": "execute_result"
    }
   ],
   "source": [
    "result_interval"
   ]
  },
  {
   "cell_type": "code",
   "execution_count": 12,
   "metadata": {
    "collapsed": false
   },
   "outputs": [
    {
     "data": {
      "text/plain": [
       "[0.9999420067422217, 1.000023033144679]"
      ]
     },
     "execution_count": 12,
     "metadata": {},
     "output_type": "execute_result"
    }
   ],
   "source": [
    "GoldenSection(test_func, 0.1, 30000, 0.0001)"
   ]
  },
  {
   "cell_type": "code",
   "execution_count": 128,
   "metadata": {
    "collapsed": true
   },
   "outputs": [],
   "source": [
    "import matplotlib.patches as pth\n",
    "from matplotlib.patches import Rectangle as Rec\n",
    "import random\n",
    "class Rectangle:\n",
    "    def __init__(self,x, y, w, h):\n",
    "        self.x = x\n",
    "        self.y = y\n",
    "        self.h = h\n",
    "        self.w = w\n",
    "    \n",
    "    def diam(self):\n",
    "        return np.sqrt(self.h ** 2 + self.w ** 2)\n",
    "\n",
    "    def get_center_coords(self):\n",
    "        return [self.x + 0.5 * self.w, self.y + 0.5 * self.h]\n",
    "    \n",
    "    def split_on_three(self):\n",
    "        if self.h >= self.w:\n",
    "            return [Rectangle(self.x, self.y, self.w, self.h / 3.), \\\n",
    "                   Rectangle(self.x, self.y + self.h /3., self.w, self.h / 3.), \\\n",
    "                   Rectangle(self.x, self.y + 2 * self.h / 3., self.w, self.h / 3.)]\n",
    "        else:\n",
    "            return [Rectangle(self.x, self.y, self.w / 3., self.h), \\\n",
    "                   Rectangle(self.x + self.w / 3, self.y, self.w / 3., self.h), \\\n",
    "                   Rectangle(self.x + 2 * self.w / 3., self.y, self.w / 3., self.h)]\n",
    "        \n",
    "    def draw(self, ax):\n",
    "        ax.add_patch(Rec((self.x,self.y), self.w, self.h, fill = False, color = (random.random(),random.random(),random.random())))\n",
    "    \n",
    "def get_eval(Q, l, P):\n",
    "    return Q - l * P.diam() / 2.\n",
    "\n",
    "def test_func(x, y):\n",
    "    return x ** 2 + y ** 2\n",
    "\n",
    "def DivisionThreeMethod(func, x, y, w, h, l, eps, draw_flag = 0):\n",
    "    rectangles = []\n",
    "    E = Rectangle(x, y, w, h)\n",
    "    E.draw(ax)\n",
    "    rectangles += E.split_on_three()\n",
    "    [r.draw(ax) for r in rectangles[-3:]]\n",
    "    Q = [func(*rec.get_center_coords()) for rec in rectangles]\n",
    "    arg_min_Q = Q.index(min(Q)) \n",
    "    Z = [get_eval(q, l, rec) for q, rec in zip(Q,rectangles)]\n",
    "    arg_min_Z = Z.index(min(Z))\n",
    "    while Q[arg_min_Q] - Z[arg_min_Z] > eps:\n",
    "        \n",
    "        Q += [func(*rec.get_center_coords()) for rec in rectangles[arg_min_Z].split_on_three()]\n",
    "        Z += [get_eval(q, l, rec) for q, rec in zip(Q[-3:], rectangles[arg_min_Z].split_on_three())]\n",
    "        rectangles += rectangles[arg_min_Z].split_on_three()\n",
    "        [r.draw(ax) for r in rectangles[-3:]]\n",
    "        rectangles.pop(arg_min_Z)\n",
    "        Q.pop(arg_min_Z)\n",
    "        Z.pop(arg_min_Z)\n",
    "        print('im here'+ str(arg_min_Z), end = '\\r')\n",
    "        arg_min_Q = Q.index(min(Q))\n",
    "        arg_min_Z = Z.index(min(Z))\n",
    "    return Q[arg_min_Q], rectangles[arg_min_Q]\n",
    "        "
   ]
  },
  {
   "cell_type": "code",
   "execution_count": 130,
   "metadata": {
    "collapsed": false
   },
   "outputs": [
    {
     "name": "stdout",
     "output_type": "stream",
     "text": [
      "im here0\r",
      "im here2\r",
      "im here6\r",
      "im here8\r",
      "im here8\r",
      "im here8\r",
      "im here11\r",
      "im here10\r",
      "im here15\r",
      "im here14\r",
      "im here12\r",
      "im here15\r",
      "im here21\r",
      "im here14\r",
      "im here11\r",
      "im here30\r",
      "im here11\r"
     ]
    },
    {
     "data": {
      "image/png": "[encoded data removed]",
      "text/plain": [
       "<Figure size 432x288 with 1 Axes>"
      ]
     },
     "metadata": {},
     "output_type": "display_data"
    }
   ],
   "source": [
    "from matplotlib import pyplot as plt\n",
    "plt.figure()\n",
    "ax = plt.gca()\n",
    "resQ, resR = DivisionThreeMethod(test_func, -3, -3, 10, 12,1,0.1, 1)\n",
    "plt.xlim(-10,10)\n",
    "plt.ylim(-10,10)\n",
    "plt.show()"
   ]
  },
  {
   "cell_type": "code",
   "execution_count": 131,
   "metadata": {
    "collapsed": false
   },
   "outputs": [
    {
     "data": {
      "text/plain": [
       "(0.0019814052735863397, [0.02469135802469153, 0.03703703703703687])"
      ]
     },
     "execution_count": 131,
     "metadata": {},
     "output_type": "execute_result"
    }
   ],
   "source": [
    "resQ, resR.get_center_coords()"
   ]
  }
 ],
 "metadata": {
  "anaconda-cloud": {},
  "kernelspec": {
   "display_name": "Python [conda env:Anaconda3]",
   "language": "python",
   "name": "conda-env-Anaconda3-py"
  },
  "language_info": {
   "codemirror_mode": {
    "name": "ipython",
    "version": 3
   },
   "file_extension": ".py",
   "mimetype": "text/x-python",
   "name": "python",
   "nbconvert_exporter": "python",
   "pygments_lexer": "ipython3",
   "version": "3.5.2"
  }
 },
 "nbformat": 4,
 "nbformat_minor": 1
}
