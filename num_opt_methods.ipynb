{
 "cells": [
  {
   "cell_type": "code",
   "execution_count": 6,
   "metadata": {
    "collapsed": false
   },
   "outputs": [],
   "source": [
    "import numpy as np\n",
    "\n",
    "def DichotomyOneCalc(func, a, b, delta = 0.1, eps = 0.001):\n",
    "    while b - a > delta:\n",
    "        x1 = - eps + (b + a) / 2. \n",
    "        x2 = eps + (b + a) / 2. \n",
    "        if func(x1) < func(x2):\n",
    "            b = x2\n",
    "        else:\n",
    "            a = x1\n",
    "    return [a, b]\n",
    "\n",
    "def GoldenSection(func, a, b, delta = 0.1):\n",
    "    tay = (np.sqrt(5) - 1) / 2.\n",
    "    y = a + (b - a) * tay\n",
    "    x = b - (b - a) * tay\n",
    "    Qy = func(y)\n",
    "    Qx = func(x)\n",
    "    while b - a > delta:\n",
    "        if Qx < Qy:\n",
    "            b = y\n",
    "            y = x\n",
    "            Qy = Qx\n",
    "            x = b - (b - a) * tay\n",
    "            Qx = func(x)\n",
    "        else:\n",
    "            a = x\n",
    "            x = y\n",
    "            Qx = Qy\n",
    "            y = a + (b - a) * tay\n",
    "            Qy = func(y)\n",
    "    return [a, b]"
   ]
  },
  {
   "cell_type": "code",
   "execution_count": 10,
   "metadata": {
    "collapsed": false
   },
   "outputs": [],
   "source": [
    "def test_func(x):\n",
    "    return np.abs(np.log(x))\n",
    "result_interval = DichotomyOneCalc(test_func, 0.1, 30000, 0.0001,0.0000001)"
   ]
  },
  {
   "cell_type": "code",
   "execution_count": 11,
   "metadata": {
    "collapsed": false
   },
   "outputs": [
    {
     "data": {
      "text/plain": [
       "[0.9999898832231368, 1.000045962391349]"
      ]
     },
     "execution_count": 11,
     "metadata": {},
     "output_type": "execute_result"
    }
   ],
   "source": [
    "result_interval"
   ]
  },
  {
   "cell_type": "code",
   "execution_count": 12,
   "metadata": {
    "collapsed": false
   },
   "outputs": [
    {
     "data": {
      "text/plain": [
       "[0.9999420067422217, 1.000023033144679]"
      ]
     },
     "execution_count": 12,
     "metadata": {},
     "output_type": "execute_result"
    }
   ],
   "source": [
    "GoldenSection(test_func, 0.1, 30000, 0.0001)"
   ]
  },
  {
   "cell_type": "code",
   "execution_count": null,
   "metadata": {
    "collapsed": true
   },
   "outputs": [],
   "source": []
  }
 ],
 "metadata": {
  "anaconda-cloud": {},
  "kernelspec": {
   "display_name": "Python [conda env:Anaconda3]",
   "language": "python",
   "name": "conda-env-Anaconda3-py"
  },
  "language_info": {
   "codemirror_mode": {
    "name": "ipython",
    "version": 3
   },
   "file_extension": ".py",
   "mimetype": "text/x-python",
   "name": "python",
   "nbconvert_exporter": "python",
   "pygments_lexer": "ipython3",
   "version": "3.5.2"
  }
 },
 "nbformat": 4,
 "nbformat_minor": 1
}
